{
  "nbformat": 4,
  "nbformat_minor": 0,
  "metadata": {
    "colab": {
      "provenance": []
    },
    "kernelspec": {
      "name": "python3",
      "display_name": "Python 3"
    },
    "language_info": {
      "name": "python"
    }
  },
  "cells": [
    {
      "cell_type": "markdown",
      "source": [
        "# Taller. Regresión Lineal"
      ],
      "metadata": {
        "id": "CFuyCCeTua2X"
      }
    },
    {
      "cell_type": "markdown",
      "source": [
        "## Caso. Estimación de gastos médicos"
      ],
      "metadata": {
        "id": "OuK3k8EnwGQT"
      }
    },
    {
      "cell_type": "markdown",
      "source": [
        "**Contexto**\n",
        "\n",
        "Para que una compañía de seguros gane dinero, necesita recaudar más en primas anuales de lo que gasta en atención médica para sus beneficiarios. Como resultado, las aseguradoras invierten una gran cantidad de tiempo y dinero para desarrollar modelos que pronostiquen con precisión los costos por servicios de salud.\n",
        "\n",
        "En algunos casos los costos son difíciles de estimar porque las condiciones más costosas son raras y aparentemente aleatorias. Aun así, algunas condiciones son más frecuentes para ciertos segmentos de la población. Por ejemplo, el cáncer de pulmón es más probable entre los fumadores que los no fumadores, y la enfermedad cardíaca puede ser más probable entre los obesos."
      ],
      "metadata": {
        "id": "dUJ383H7uiIc"
      }
    },
    {
      "cell_type": "markdown",
      "source": [
        "**Objetivo del Caso**\n",
        "\n",
        "Utilizar datos de pacientes para estimar los costos de atención médica para dichos segmentos de población. Estas estimaciones podrían usarse para crear tablas actuariales que fijen el precio de las primas anuales más o menos según los costos de tratamiento esperados."
      ],
      "metadata": {
        "id": "9rCiBv4bvnpu"
      }
    },
    {
      "cell_type": "markdown",
      "source": [
        "**Datos**\n",
        "\n",
        "El archivo gastos_medicos.xlsx incluye 1338 casos de beneficiarios actualmente inscritos en el plan de seguro, con variables que indican las características del paciente, así como los gastos médicos totales cargados al plan para el año calendario. La información que se tiene disponible para cada asegurado es:\n",
        "\n",
        "* **sexo:** este es el género del titular de la póliza, ya sea hombre o mujer.\n",
        "* **edad:** es un número entero que indica la edad del beneficiario primario (excluyendo a los mayores de 64 años, ya que generalmente están cubiertos por el gobierno).\n",
        "* **hijos:** este es un número entero que indica el número de hijos / dependientes cubiertos por el plan de seguro.\n",
        "* **región:** este es el lugar de residencia del beneficiario en los EE. UU., Dividido en cuatro regiones geográficas: noreste, sureste, suroeste o noroeste.\n",
        "* **imc:** este es el índice de masa corporal (body mass index - bmi), que proporciona una idea de cómo una persona con sobrepeso o bajo peso es relativa a su altura. El IMC es igual al peso (en kilogramos) dividido por la altura (en metros) al cuadrado. Un IMC ideal está dentro del rango de 18.5 a 24.9.\n",
        "* **fumador:** Esto es sí o no, dependiendo de si el asegurado fuma regularmente.\n",
        "* **gastos:** gastos médicos cargados al asegurado en el año calendario. Esta es la variable a predecir."
      ],
      "metadata": {
        "id": "Pth11-PqvYBZ"
      }
    },
    {
      "cell_type": "markdown",
      "source": [
        "## Modelos de Regresión"
      ],
      "metadata": {
        "id": "5KruL6ARvxqA"
      }
    },
    {
      "cell_type": "code",
      "execution_count": 1,
      "metadata": {
        "id": "c8Ne7E9puQAg"
      },
      "outputs": [],
      "source": [
        "# Cargar modulos para ciencia de datos\n",
        "import numpy as np\n",
        "import pandas as pd\n",
        "import matplotlib.pyplot as plt\n",
        "import seaborn as sns\n",
        "import os\n",
        "from sklearn.metrics import mean_squared_error\n",
        "from sklearn.metrics import mean_absolute_percentage_error\n",
        "pd.set_option('display.max_columns', None)\n",
        "\n",
        "# Cargar modulos para modelo de regresión\n",
        "import statsmodels.api as sm"
      ]
    },
    {
      "cell_type": "code",
      "source": [
        "# Para conectarse con google drive\n",
        "from google.colab import drive\n",
        "drive.mount('/gdrive')"
      ],
      "metadata": {
        "colab": {
          "base_uri": "https://localhost:8080/"
        },
        "id": "i8JDcr13v1GO",
        "outputId": "231855a1-0c3a-4a3c-b4e2-c4e7d8857c05"
      },
      "execution_count": 3,
      "outputs": [
        {
          "output_type": "stream",
          "name": "stdout",
          "text": [
            "Mounted at /gdrive\n"
          ]
        }
      ]
    },
    {
      "cell_type": "code",
      "source": [
        "# Configurar directorio de trabajo\n",
        "os.chdir('/gdrive/MyDrive/Colab Notebooks/Analitica de Datos UJaveriana')\n",
        "\n",
        "# Verificar los archivos de las carpetas\n",
        "!ls"
      ],
      "metadata": {
        "colab": {
          "base_uri": "https://localhost:8080/"
        },
        "id": "_8P7WGUHv21z",
        "outputId": "0d66df69-961e-4f8a-d459-5bc5abb6e738"
      },
      "execution_count": 4,
      "outputs": [
        {
          "output_type": "stream",
          "name": "stdout",
          "text": [
            "'1. Analisis Exploratorio.ipynb'   predicciones.xlsx\n",
            "'2. Modelo de Regresion.ipynb'\t   publicidad.csv\n",
            " bank_marketing.csv\t\t   Taller_Regresion_Lineal.ipynb\n",
            " gastos_medicos.xlsx\n"
          ]
        }
      ]
    },
    {
      "cell_type": "code",
      "source": [
        "datos = pd.read_excel(\"gastos_medicos.xlsx\")\n",
        "datos.head(10)"
      ],
      "metadata": {
        "colab": {
          "base_uri": "https://localhost:8080/",
          "height": 363
        },
        "id": "OMIt9GiJv_Bw",
        "outputId": "eabf8b6f-0386-4556-c354-0b957b4c7898"
      },
      "execution_count": 28,
      "outputs": [
        {
          "output_type": "execute_result",
          "data": {
            "text/plain": [
              "     sexo  edad  hijos        region     imc fumador    gastos\n",
              "0   mujer    19      0  suroccidente  27.900      si  16884.92\n",
              "1  hombre    18      1    suroriente  33.770      no   1725.55\n",
              "2  hombre    28      3    suroriente  33.000      no   4449.46\n",
              "3  hombre    33      0  noroccidente  22.705      no  21984.47\n",
              "4  hombre    32      0  noroccidente  28.880      no   3866.86\n",
              "5   mujer    31      0    suroriente  25.740      no   3756.62\n",
              "6   mujer    46      1    suroriente  33.440      no   8240.59\n",
              "7   mujer    37      3  noroccidente  27.740      no   7281.51\n",
              "8  hombre    37      2    nororiente  29.830      no   6406.41\n",
              "9   mujer    60      0  noroccidente  25.840      no  28923.14"
            ],
            "text/html": [
              "\n",
              "  <div id=\"df-1f2f4ca5-1771-48ac-bdb8-1a769479bd15\" class=\"colab-df-container\">\n",
              "    <div>\n",
              "<style scoped>\n",
              "    .dataframe tbody tr th:only-of-type {\n",
              "        vertical-align: middle;\n",
              "    }\n",
              "\n",
              "    .dataframe tbody tr th {\n",
              "        vertical-align: top;\n",
              "    }\n",
              "\n",
              "    .dataframe thead th {\n",
              "        text-align: right;\n",
              "    }\n",
              "</style>\n",
              "<table border=\"1\" class=\"dataframe\">\n",
              "  <thead>\n",
              "    <tr style=\"text-align: right;\">\n",
              "      <th></th>\n",
              "      <th>sexo</th>\n",
              "      <th>edad</th>\n",
              "      <th>hijos</th>\n",
              "      <th>region</th>\n",
              "      <th>imc</th>\n",
              "      <th>fumador</th>\n",
              "      <th>gastos</th>\n",
              "    </tr>\n",
              "  </thead>\n",
              "  <tbody>\n",
              "    <tr>\n",
              "      <th>0</th>\n",
              "      <td>mujer</td>\n",
              "      <td>19</td>\n",
              "      <td>0</td>\n",
              "      <td>suroccidente</td>\n",
              "      <td>27.900</td>\n",
              "      <td>si</td>\n",
              "      <td>16884.92</td>\n",
              "    </tr>\n",
              "    <tr>\n",
              "      <th>1</th>\n",
              "      <td>hombre</td>\n",
              "      <td>18</td>\n",
              "      <td>1</td>\n",
              "      <td>suroriente</td>\n",
              "      <td>33.770</td>\n",
              "      <td>no</td>\n",
              "      <td>1725.55</td>\n",
              "    </tr>\n",
              "    <tr>\n",
              "      <th>2</th>\n",
              "      <td>hombre</td>\n",
              "      <td>28</td>\n",
              "      <td>3</td>\n",
              "      <td>suroriente</td>\n",
              "      <td>33.000</td>\n",
              "      <td>no</td>\n",
              "      <td>4449.46</td>\n",
              "    </tr>\n",
              "    <tr>\n",
              "      <th>3</th>\n",
              "      <td>hombre</td>\n",
              "      <td>33</td>\n",
              "      <td>0</td>\n",
              "      <td>noroccidente</td>\n",
              "      <td>22.705</td>\n",
              "      <td>no</td>\n",
              "      <td>21984.47</td>\n",
              "    </tr>\n",
              "    <tr>\n",
              "      <th>4</th>\n",
              "      <td>hombre</td>\n",
              "      <td>32</td>\n",
              "      <td>0</td>\n",
              "      <td>noroccidente</td>\n",
              "      <td>28.880</td>\n",
              "      <td>no</td>\n",
              "      <td>3866.86</td>\n",
              "    </tr>\n",
              "    <tr>\n",
              "      <th>5</th>\n",
              "      <td>mujer</td>\n",
              "      <td>31</td>\n",
              "      <td>0</td>\n",
              "      <td>suroriente</td>\n",
              "      <td>25.740</td>\n",
              "      <td>no</td>\n",
              "      <td>3756.62</td>\n",
              "    </tr>\n",
              "    <tr>\n",
              "      <th>6</th>\n",
              "      <td>mujer</td>\n",
              "      <td>46</td>\n",
              "      <td>1</td>\n",
              "      <td>suroriente</td>\n",
              "      <td>33.440</td>\n",
              "      <td>no</td>\n",
              "      <td>8240.59</td>\n",
              "    </tr>\n",
              "    <tr>\n",
              "      <th>7</th>\n",
              "      <td>mujer</td>\n",
              "      <td>37</td>\n",
              "      <td>3</td>\n",
              "      <td>noroccidente</td>\n",
              "      <td>27.740</td>\n",
              "      <td>no</td>\n",
              "      <td>7281.51</td>\n",
              "    </tr>\n",
              "    <tr>\n",
              "      <th>8</th>\n",
              "      <td>hombre</td>\n",
              "      <td>37</td>\n",
              "      <td>2</td>\n",
              "      <td>nororiente</td>\n",
              "      <td>29.830</td>\n",
              "      <td>no</td>\n",
              "      <td>6406.41</td>\n",
              "    </tr>\n",
              "    <tr>\n",
              "      <th>9</th>\n",
              "      <td>mujer</td>\n",
              "      <td>60</td>\n",
              "      <td>0</td>\n",
              "      <td>noroccidente</td>\n",
              "      <td>25.840</td>\n",
              "      <td>no</td>\n",
              "      <td>28923.14</td>\n",
              "    </tr>\n",
              "  </tbody>\n",
              "</table>\n",
              "</div>\n",
              "    <div class=\"colab-df-buttons\">\n",
              "\n",
              "  <div class=\"colab-df-container\">\n",
              "    <button class=\"colab-df-convert\" onclick=\"convertToInteractive('df-1f2f4ca5-1771-48ac-bdb8-1a769479bd15')\"\n",
              "            title=\"Convert this dataframe to an interactive table.\"\n",
              "            style=\"display:none;\">\n",
              "\n",
              "  <svg xmlns=\"http://www.w3.org/2000/svg\" height=\"24px\" viewBox=\"0 -960 960 960\">\n",
              "    <path d=\"M120-120v-720h720v720H120Zm60-500h600v-160H180v160Zm220 220h160v-160H400v160Zm0 220h160v-160H400v160ZM180-400h160v-160H180v160Zm440 0h160v-160H620v160ZM180-180h160v-160H180v160Zm440 0h160v-160H620v160Z\"/>\n",
              "  </svg>\n",
              "    </button>\n",
              "\n",
              "  <style>\n",
              "    .colab-df-container {\n",
              "      display:flex;\n",
              "      gap: 12px;\n",
              "    }\n",
              "\n",
              "    .colab-df-convert {\n",
              "      background-color: #E8F0FE;\n",
              "      border: none;\n",
              "      border-radius: 50%;\n",
              "      cursor: pointer;\n",
              "      display: none;\n",
              "      fill: #1967D2;\n",
              "      height: 32px;\n",
              "      padding: 0 0 0 0;\n",
              "      width: 32px;\n",
              "    }\n",
              "\n",
              "    .colab-df-convert:hover {\n",
              "      background-color: #E2EBFA;\n",
              "      box-shadow: 0px 1px 2px rgba(60, 64, 67, 0.3), 0px 1px 3px 1px rgba(60, 64, 67, 0.15);\n",
              "      fill: #174EA6;\n",
              "    }\n",
              "\n",
              "    .colab-df-buttons div {\n",
              "      margin-bottom: 4px;\n",
              "    }\n",
              "\n",
              "    [theme=dark] .colab-df-convert {\n",
              "      background-color: #3B4455;\n",
              "      fill: #D2E3FC;\n",
              "    }\n",
              "\n",
              "    [theme=dark] .colab-df-convert:hover {\n",
              "      background-color: #434B5C;\n",
              "      box-shadow: 0px 1px 3px 1px rgba(0, 0, 0, 0.15);\n",
              "      filter: drop-shadow(0px 1px 2px rgba(0, 0, 0, 0.3));\n",
              "      fill: #FFFFFF;\n",
              "    }\n",
              "  </style>\n",
              "\n",
              "    <script>\n",
              "      const buttonEl =\n",
              "        document.querySelector('#df-1f2f4ca5-1771-48ac-bdb8-1a769479bd15 button.colab-df-convert');\n",
              "      buttonEl.style.display =\n",
              "        google.colab.kernel.accessAllowed ? 'block' : 'none';\n",
              "\n",
              "      async function convertToInteractive(key) {\n",
              "        const element = document.querySelector('#df-1f2f4ca5-1771-48ac-bdb8-1a769479bd15');\n",
              "        const dataTable =\n",
              "          await google.colab.kernel.invokeFunction('convertToInteractive',\n",
              "                                                    [key], {});\n",
              "        if (!dataTable) return;\n",
              "\n",
              "        const docLinkHtml = 'Like what you see? Visit the ' +\n",
              "          '<a target=\"_blank\" href=https://colab.research.google.com/notebooks/data_table.ipynb>data table notebook</a>'\n",
              "          + ' to learn more about interactive tables.';\n",
              "        element.innerHTML = '';\n",
              "        dataTable['output_type'] = 'display_data';\n",
              "        await google.colab.output.renderOutput(dataTable, element);\n",
              "        const docLink = document.createElement('div');\n",
              "        docLink.innerHTML = docLinkHtml;\n",
              "        element.appendChild(docLink);\n",
              "      }\n",
              "    </script>\n",
              "  </div>\n",
              "\n",
              "\n",
              "<div id=\"df-8f351e61-13ef-4e6a-adf7-c424357f5948\">\n",
              "  <button class=\"colab-df-quickchart\" onclick=\"quickchart('df-8f351e61-13ef-4e6a-adf7-c424357f5948')\"\n",
              "            title=\"Suggest charts.\"\n",
              "            style=\"display:none;\">\n",
              "\n",
              "<svg xmlns=\"http://www.w3.org/2000/svg\" height=\"24px\"viewBox=\"0 0 24 24\"\n",
              "     width=\"24px\">\n",
              "    <g>\n",
              "        <path d=\"M19 3H5c-1.1 0-2 .9-2 2v14c0 1.1.9 2 2 2h14c1.1 0 2-.9 2-2V5c0-1.1-.9-2-2-2zM9 17H7v-7h2v7zm4 0h-2V7h2v10zm4 0h-2v-4h2v4z\"/>\n",
              "    </g>\n",
              "</svg>\n",
              "  </button>\n",
              "\n",
              "<style>\n",
              "  .colab-df-quickchart {\n",
              "      --bg-color: #E8F0FE;\n",
              "      --fill-color: #1967D2;\n",
              "      --hover-bg-color: #E2EBFA;\n",
              "      --hover-fill-color: #174EA6;\n",
              "      --disabled-fill-color: #AAA;\n",
              "      --disabled-bg-color: #DDD;\n",
              "  }\n",
              "\n",
              "  [theme=dark] .colab-df-quickchart {\n",
              "      --bg-color: #3B4455;\n",
              "      --fill-color: #D2E3FC;\n",
              "      --hover-bg-color: #434B5C;\n",
              "      --hover-fill-color: #FFFFFF;\n",
              "      --disabled-bg-color: #3B4455;\n",
              "      --disabled-fill-color: #666;\n",
              "  }\n",
              "\n",
              "  .colab-df-quickchart {\n",
              "    background-color: var(--bg-color);\n",
              "    border: none;\n",
              "    border-radius: 50%;\n",
              "    cursor: pointer;\n",
              "    display: none;\n",
              "    fill: var(--fill-color);\n",
              "    height: 32px;\n",
              "    padding: 0;\n",
              "    width: 32px;\n",
              "  }\n",
              "\n",
              "  .colab-df-quickchart:hover {\n",
              "    background-color: var(--hover-bg-color);\n",
              "    box-shadow: 0 1px 2px rgba(60, 64, 67, 0.3), 0 1px 3px 1px rgba(60, 64, 67, 0.15);\n",
              "    fill: var(--button-hover-fill-color);\n",
              "  }\n",
              "\n",
              "  .colab-df-quickchart-complete:disabled,\n",
              "  .colab-df-quickchart-complete:disabled:hover {\n",
              "    background-color: var(--disabled-bg-color);\n",
              "    fill: var(--disabled-fill-color);\n",
              "    box-shadow: none;\n",
              "  }\n",
              "\n",
              "  .colab-df-spinner {\n",
              "    border: 2px solid var(--fill-color);\n",
              "    border-color: transparent;\n",
              "    border-bottom-color: var(--fill-color);\n",
              "    animation:\n",
              "      spin 1s steps(1) infinite;\n",
              "  }\n",
              "\n",
              "  @keyframes spin {\n",
              "    0% {\n",
              "      border-color: transparent;\n",
              "      border-bottom-color: var(--fill-color);\n",
              "      border-left-color: var(--fill-color);\n",
              "    }\n",
              "    20% {\n",
              "      border-color: transparent;\n",
              "      border-left-color: var(--fill-color);\n",
              "      border-top-color: var(--fill-color);\n",
              "    }\n",
              "    30% {\n",
              "      border-color: transparent;\n",
              "      border-left-color: var(--fill-color);\n",
              "      border-top-color: var(--fill-color);\n",
              "      border-right-color: var(--fill-color);\n",
              "    }\n",
              "    40% {\n",
              "      border-color: transparent;\n",
              "      border-right-color: var(--fill-color);\n",
              "      border-top-color: var(--fill-color);\n",
              "    }\n",
              "    60% {\n",
              "      border-color: transparent;\n",
              "      border-right-color: var(--fill-color);\n",
              "    }\n",
              "    80% {\n",
              "      border-color: transparent;\n",
              "      border-right-color: var(--fill-color);\n",
              "      border-bottom-color: var(--fill-color);\n",
              "    }\n",
              "    90% {\n",
              "      border-color: transparent;\n",
              "      border-bottom-color: var(--fill-color);\n",
              "    }\n",
              "  }\n",
              "</style>\n",
              "\n",
              "  <script>\n",
              "    async function quickchart(key) {\n",
              "      const quickchartButtonEl =\n",
              "        document.querySelector('#' + key + ' button');\n",
              "      quickchartButtonEl.disabled = true;  // To prevent multiple clicks.\n",
              "      quickchartButtonEl.classList.add('colab-df-spinner');\n",
              "      try {\n",
              "        const charts = await google.colab.kernel.invokeFunction(\n",
              "            'suggestCharts', [key], {});\n",
              "      } catch (error) {\n",
              "        console.error('Error during call to suggestCharts:', error);\n",
              "      }\n",
              "      quickchartButtonEl.classList.remove('colab-df-spinner');\n",
              "      quickchartButtonEl.classList.add('colab-df-quickchart-complete');\n",
              "    }\n",
              "    (() => {\n",
              "      let quickchartButtonEl =\n",
              "        document.querySelector('#df-8f351e61-13ef-4e6a-adf7-c424357f5948 button');\n",
              "      quickchartButtonEl.style.display =\n",
              "        google.colab.kernel.accessAllowed ? 'block' : 'none';\n",
              "    })();\n",
              "  </script>\n",
              "</div>\n",
              "    </div>\n",
              "  </div>\n"
            ]
          },
          "metadata": {},
          "execution_count": 28
        }
      ]
    },
    {
      "cell_type": "markdown",
      "source": [
        "### Análisis Exploratorio de Variables Numéricas"
      ],
      "metadata": {
        "id": "03hlw1FIwcya"
      }
    },
    {
      "cell_type": "code",
      "source": [
        "# Resumen estadístico de las variables numéricas\n"
      ],
      "metadata": {
        "id": "SMOT9qb2wklE"
      },
      "execution_count": null,
      "outputs": []
    },
    {
      "cell_type": "code",
      "source": [
        "# Gráfico de dispersión edad vs gastos médicos\n"
      ],
      "metadata": {
        "id": "eWfaNLP8wz4m"
      },
      "execution_count": null,
      "outputs": []
    },
    {
      "cell_type": "code",
      "source": [
        "# Gráfico de dispersión imc vs gastos médicos\n"
      ],
      "metadata": {
        "id": "uhWkXSnkw4eW"
      },
      "execution_count": null,
      "outputs": []
    },
    {
      "cell_type": "code",
      "source": [
        "# Gráfico de caja que compare los gastos médicos según el número de hijos\n"
      ],
      "metadata": {
        "id": "gAcwFHGCw8rO"
      },
      "execution_count": null,
      "outputs": []
    },
    {
      "cell_type": "code",
      "source": [
        "# Matriz de correlación datos.corr()\n"
      ],
      "metadata": {
        "id": "73f4K3prxEEz"
      },
      "execution_count": 9,
      "outputs": []
    },
    {
      "cell_type": "markdown",
      "source": [
        "**¿Qué variables tienen una alta correlación con los gastos médicos? Justifique su respuesta.**"
      ],
      "metadata": {
        "id": "9rcnNNXTx_YH"
      }
    },
    {
      "cell_type": "markdown",
      "source": [
        "### Modelo solo con variables numéricas\n"
      ],
      "metadata": {
        "id": "UlRbs6UkxP5U"
      }
    },
    {
      "cell_type": "code",
      "source": [
        "# Seleccione las variables x y y\n"
      ],
      "metadata": {
        "id": "NsFcRlN2xWcY"
      },
      "execution_count": 13,
      "outputs": []
    },
    {
      "cell_type": "code",
      "source": [
        "# Agregar la constante al modelo\n",
        "\n",
        "# Crear el modelo y ajustarlo\n",
        "\n",
        "# Generar un resumen del modelo\n"
      ],
      "metadata": {
        "id": "ggiGAJ0BxaXE"
      },
      "execution_count": 20,
      "outputs": []
    },
    {
      "cell_type": "markdown",
      "source": [
        "**Interpretación**\n",
        "\n",
        "**Coeficientes:**\n",
        "\n",
        "**R-squared:**\n",
        "\n",
        "**Prob (F-statistic):**"
      ],
      "metadata": {
        "id": "RRk7GIFwzL4L"
      }
    },
    {
      "cell_type": "code",
      "source": [
        "# Se crea una tabla para guardar las ventas reales y las predicciones\n",
        "prediccion = pd.DataFrame()\n",
        "\n",
        "# Se crea una nueva columna para guardar las ventas\n",
        "\n",
        "\n",
        "# Ahora se crea una nueva columna para guardar las predicciones\n"
      ],
      "metadata": {
        "id": "l4HQowG4yuZE"
      },
      "execution_count": 16,
      "outputs": []
    },
    {
      "cell_type": "code",
      "source": [
        "# Crea la gráfica de dispersión de las predicciones vs el valor real\n",
        "\n",
        "# Crear la linea de predicción perfectas\n"
      ],
      "metadata": {
        "id": "ZSqwQb6yy6Cz"
      },
      "execution_count": 17,
      "outputs": []
    },
    {
      "cell_type": "code",
      "source": [
        "# Calcular el MSE\n"
      ],
      "metadata": {
        "id": "e5GZUdUEy_-O"
      },
      "execution_count": null,
      "outputs": []
    },
    {
      "cell_type": "code",
      "source": [
        "# Calcular el RMSE\n"
      ],
      "metadata": {
        "id": "aTiAZ4PezCac"
      },
      "execution_count": 19,
      "outputs": []
    },
    {
      "cell_type": "code",
      "source": [
        "# Calcular el MAPE\n"
      ],
      "metadata": {
        "id": "-D5YoFTYzHwd"
      },
      "execution_count": null,
      "outputs": []
    },
    {
      "cell_type": "markdown",
      "source": [
        "**Interpretación**\n",
        "\n",
        "**RMSE:**\n",
        "\n",
        "**MAPE:**\n"
      ],
      "metadata": {
        "id": "zaS7C3TyzmFU"
      }
    },
    {
      "cell_type": "markdown",
      "source": [
        "### Análisis exploratorio de variables categóricas"
      ],
      "metadata": {
        "id": "rhJLcYEn0jeQ"
      }
    },
    {
      "cell_type": "code",
      "source": [
        "# Gastos vs Sexo (Gráfico de caja)\n"
      ],
      "metadata": {
        "id": "6uqd2bDC0iya"
      },
      "execution_count": null,
      "outputs": []
    },
    {
      "cell_type": "code",
      "source": [
        "# Gastos vs Fumador (Gráfico de caja)\n"
      ],
      "metadata": {
        "id": "tZa0jYRv0qLX"
      },
      "execution_count": 22,
      "outputs": []
    },
    {
      "cell_type": "code",
      "source": [
        "# Gráfico de dispersion edad vs gastos (Color = Fumador). sns.scatterplot(data=datos, x='edad', y='gastos', hue='fumador')\n"
      ],
      "metadata": {
        "id": "v-qAgWOw1I71"
      },
      "execution_count": 24,
      "outputs": []
    },
    {
      "cell_type": "code",
      "source": [
        "# Gastos vs Region (Gráfico de caja)\n"
      ],
      "metadata": {
        "id": "Ztr_7Ry605IQ"
      },
      "execution_count": null,
      "outputs": []
    },
    {
      "cell_type": "markdown",
      "source": [
        "**¿Qué variable categórica parece tener una mayor relación con los gastos?**"
      ],
      "metadata": {
        "id": "Heyfv-PV1ANR"
      }
    },
    {
      "cell_type": "markdown",
      "source": [
        "### Modelo solo con variables dummies e interacciones"
      ],
      "metadata": {
        "id": "be5J-cZPzgtR"
      }
    },
    {
      "cell_type": "code",
      "source": [
        "# Seleccione las variables x y y\n"
      ],
      "metadata": {
        "id": "K3jMhELTz-Nq"
      },
      "execution_count": null,
      "outputs": []
    },
    {
      "cell_type": "code",
      "source": [
        "# Transforme las variables categoricas a dummies del conjunto X\n"
      ],
      "metadata": {
        "id": "rGi2Lypu0Djo"
      },
      "execution_count": null,
      "outputs": []
    },
    {
      "cell_type": "code",
      "source": [
        "# Cree la interacción entre la variable fumador y edad en el conjunto X\n"
      ],
      "metadata": {
        "id": "aJcx-Tw_0Jr6"
      },
      "execution_count": null,
      "outputs": []
    },
    {
      "cell_type": "code",
      "source": [
        "# Agregar la constante al modelo\n",
        "\n",
        "# Crear el modelo y ajustarlo\n",
        "\n",
        "# Generar un resumen del modelo\n"
      ],
      "metadata": {
        "id": "-4ykUd0cz-Nv"
      },
      "execution_count": 21,
      "outputs": []
    },
    {
      "cell_type": "markdown",
      "source": [
        "**Interpretación**\n",
        "\n",
        "**Coeficientes:**\n",
        "\n",
        "**R-squared:**\n",
        "\n",
        "**Prob (F-statistic):**"
      ],
      "metadata": {
        "id": "fWNMb3dYz-Ny"
      }
    },
    {
      "cell_type": "code",
      "source": [
        "# Se crea una tabla para guardar las ventas reales y las predicciones\n",
        "prediccion = pd.DataFrame()\n",
        "\n",
        "# Se crea una nueva columna para guardar las ventas\n",
        "\n",
        "\n",
        "# Ahora se crea una nueva columna para guardar las predicciones\n"
      ],
      "metadata": {
        "id": "zHEdYAuiz-N1"
      },
      "execution_count": null,
      "outputs": []
    },
    {
      "cell_type": "code",
      "source": [
        "# Crea la gráfica de dispersión de las predicciones vs el valor real\n",
        "\n",
        "# Crear la linea de predicción perfectas\n"
      ],
      "metadata": {
        "id": "yy2OqdfUz-N4"
      },
      "execution_count": null,
      "outputs": []
    },
    {
      "cell_type": "code",
      "source": [
        "# Calcular el MSE\n"
      ],
      "metadata": {
        "id": "7sWj6wAaz-N5"
      },
      "execution_count": null,
      "outputs": []
    },
    {
      "cell_type": "code",
      "source": [
        "# Calcular el RMSE\n"
      ],
      "metadata": {
        "id": "FFl6KgQ1z-N7"
      },
      "execution_count": null,
      "outputs": []
    },
    {
      "cell_type": "code",
      "source": [
        "# Calcular el MAPE\n"
      ],
      "metadata": {
        "id": "B--uonMCz-N9"
      },
      "execution_count": null,
      "outputs": []
    },
    {
      "cell_type": "markdown",
      "source": [
        "**Interpretación**\n",
        "\n",
        "**RMSE:**\n",
        "\n",
        "**MAPE:**\n"
      ],
      "metadata": {
        "id": "ukT-yQJ6z-N-"
      }
    },
    {
      "cell_type": "markdown",
      "source": [
        "### Compare los modelos y genere conclusiones"
      ],
      "metadata": {
        "id": "OcITxq050VgZ"
      }
    }
  ]
}